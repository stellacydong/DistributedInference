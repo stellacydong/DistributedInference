{
  "nbformat": 4,
  "nbformat_minor": 0,
  "metadata": {
    "kernelspec": {
      "display_name": "Python 3",
      "language": "python",
      "name": "python3"
    },
    "language_info": {
      "codemirror_mode": {
        "name": "ipython",
        "version": 3
      },
      "file_extension": ".py",
      "mimetype": "text/x-python",
      "name": "python",
      "nbconvert_exporter": "python",
      "pygments_lexer": "ipython3",
      "version": "3.6.9"
    },
    "colab": {
      "name": "IMDB (1).ipynb",
      "provenance": [],
      "collapsed_sections": []
    }
  },
  "cells": [
    {
      "cell_type": "code",
      "metadata": {
        "id": "pfFWvBVXDk3r",
        "outputId": "22c20d11-0dae-4694-f80e-1a412c421f02"
      },
      "source": [
        "!nvidia-smi"
      ],
      "execution_count": null,
      "outputs": [
        {
          "output_type": "stream",
          "text": [
            "Tue Jan 26 14:39:08 2021       \n",
            "+-----------------------------------------------------------------------------+\n",
            "| NVIDIA-SMI 450.51.06    Driver Version: 450.51.06    CUDA Version: 11.0     |\n",
            "|-------------------------------+----------------------+----------------------+\n",
            "| GPU  Name        Persistence-M| Bus-Id        Disp.A | Volatile Uncorr. ECC |\n",
            "| Fan  Temp  Perf  Pwr:Usage/Cap|         Memory-Usage | GPU-Util  Compute M. |\n",
            "|                               |                      |               MIG M. |\n",
            "|===============================+======================+======================|\n",
            "|   0  Tesla V100-SXM2...  On   | 00000000:62:00.0 Off |                    0 |\n",
            "| N/A   48C    P0    64W / 300W |      3MiB / 32510MiB |      0%      Default |\n",
            "|                               |                      |                  N/A |\n",
            "+-------------------------------+----------------------+----------------------+\n",
            "|   1  Tesla V100-SXM2...  On   | 00000000:8A:00.0 Off |                    0 |\n",
            "| N/A   76C    P0    94W / 300W |      3MiB / 32510MiB |      0%      Default |\n",
            "|                               |                      |                  N/A |\n",
            "+-------------------------------+----------------------+----------------------+\n",
            "                                                                               \n",
            "+-----------------------------------------------------------------------------+\n",
            "| Processes:                                                                  |\n",
            "|  GPU   GI   CI        PID   Type   Process name                  GPU Memory |\n",
            "|        ID   ID                                                   Usage      |\n",
            "|=============================================================================|\n",
            "|  No running processes found                                                 |\n",
            "+-----------------------------------------------------------------------------+\n"
          ],
          "name": "stdout"
        }
      ]
    },
    {
      "cell_type": "code",
      "metadata": {
        "id": "Fr99ATAXDk3s"
      },
      "source": [
        "import pandas as pd\n",
        "import numpy as np"
      ],
      "execution_count": null,
      "outputs": []
    },
    {
      "cell_type": "code",
      "metadata": {
        "id": "7anxUJwuDk3s"
      },
      "source": [
        "imdb_df = pd.read_csv('IMDB_Dataset.csv', index_col = None)"
      ],
      "execution_count": null,
      "outputs": []
    },
    {
      "cell_type": "code",
      "metadata": {
        "id": "ByQWXjJHDk3s",
        "outputId": "e10efcf5-5322-4f74-932c-8828416a613e"
      },
      "source": [
        "imdb_df.head(3)"
      ],
      "execution_count": null,
      "outputs": [
        {
          "output_type": "execute_result",
          "data": {
            "text/html": [
              "<div>\n",
              "<style scoped>\n",
              "    .dataframe tbody tr th:only-of-type {\n",
              "        vertical-align: middle;\n",
              "    }\n",
              "\n",
              "    .dataframe tbody tr th {\n",
              "        vertical-align: top;\n",
              "    }\n",
              "\n",
              "    .dataframe thead th {\n",
              "        text-align: right;\n",
              "    }\n",
              "</style>\n",
              "<table border=\"1\" class=\"dataframe\">\n",
              "  <thead>\n",
              "    <tr style=\"text-align: right;\">\n",
              "      <th></th>\n",
              "      <th>review</th>\n",
              "      <th>sentiment</th>\n",
              "    </tr>\n",
              "  </thead>\n",
              "  <tbody>\n",
              "    <tr>\n",
              "      <th>0</th>\n",
              "      <td>One of the other reviewers has mentioned that ...</td>\n",
              "      <td>positive</td>\n",
              "    </tr>\n",
              "    <tr>\n",
              "      <th>1</th>\n",
              "      <td>A wonderful little production. &lt;br /&gt;&lt;br /&gt;The...</td>\n",
              "      <td>positive</td>\n",
              "    </tr>\n",
              "    <tr>\n",
              "      <th>2</th>\n",
              "      <td>I thought this was a wonderful way to spend ti...</td>\n",
              "      <td>positive</td>\n",
              "    </tr>\n",
              "  </tbody>\n",
              "</table>\n",
              "</div>"
            ],
            "text/plain": [
              "                                              review sentiment\n",
              "0  One of the other reviewers has mentioned that ...  positive\n",
              "1  A wonderful little production. <br /><br />The...  positive\n",
              "2  I thought this was a wonderful way to spend ti...  positive"
            ]
          },
          "metadata": {
            "tags": []
          },
          "execution_count": 4
        }
      ]
    },
    {
      "cell_type": "code",
      "metadata": {
        "id": "s_WLMGsnDk3t"
      },
      "source": [
        "label = []\n",
        "\n",
        "for index, row in imdb_df.iterrows():\n",
        "    if(row['sentiment'] == 'positive'): label.append(1)\n",
        "    else: label.append(0)"
      ],
      "execution_count": null,
      "outputs": []
    },
    {
      "cell_type": "code",
      "metadata": {
        "id": "IdK3pIn3Dk3t"
      },
      "source": [
        "imdb_df['label'] = label\n",
        "\n",
        "imdb_df = imdb_df.drop(['sentiment'], axis = 1)"
      ],
      "execution_count": null,
      "outputs": []
    },
    {
      "cell_type": "code",
      "metadata": {
        "id": "NsOBSsjcDk3t"
      },
      "source": [
        "imdb_df = imdb_df.head(10000)"
      ],
      "execution_count": null,
      "outputs": []
    },
    {
      "cell_type": "code",
      "metadata": {
        "id": "7GWJF9gxDk3u",
        "outputId": "f1659f63-dc7e-47fc-b286-cacc58554896"
      },
      "source": [
        "imdb_df.label.value_counts()"
      ],
      "execution_count": null,
      "outputs": [
        {
          "output_type": "execute_result",
          "data": {
            "text/plain": [
              "1    5028\n",
              "0    4972\n",
              "Name: label, dtype: int64"
            ]
          },
          "metadata": {
            "tags": []
          },
          "execution_count": 8
        }
      ]
    },
    {
      "cell_type": "code",
      "metadata": {
        "id": "OBhaOtdRDk3u"
      },
      "source": [
        "PRETRAINED_MODEL_NAME = 'roberta-large'\n",
        "PRETRAINED_MODEL_PATH = '../models/' + PRETRAINED_MODEL_NAME"
      ],
      "execution_count": null,
      "outputs": []
    },
    {
      "cell_type": "code",
      "metadata": {
        "id": "1IpDzaigDk3u"
      },
      "source": [
        "from transformers import RobertaForSequenceClassification, RobertaTokenizer, RobertaConfig"
      ],
      "execution_count": null,
      "outputs": []
    },
    {
      "cell_type": "code",
      "metadata": {
        "id": "n5hGz-j5Dk3v",
        "outputId": "d85babcc-a7ff-438d-aed2-6eefe957ccf6"
      },
      "source": [
        "roberta_model = RobertaForSequenceClassification.from_pretrained(PRETRAINED_MODEL_PATH)\n",
        "roberta_tok = RobertaTokenizer.from_pretrained(PRETRAINED_MODEL_PATH)"
      ],
      "execution_count": null,
      "outputs": [
        {
          "output_type": "stream",
          "text": [
            "Some weights of the model checkpoint at ../models/roberta-large were not used when initializing RobertaForSequenceClassification: ['lm_head.bias', 'lm_head.dense.weight', 'lm_head.dense.bias', 'lm_head.layer_norm.weight', 'lm_head.layer_norm.bias', 'lm_head.decoder.weight', 'roberta.pooler.dense.weight', 'roberta.pooler.dense.bias']\n",
            "- This IS expected if you are initializing RobertaForSequenceClassification from the checkpoint of a model trained on another task or with another architecture (e.g. initializing a BertForSequenceClassification model from a BertForPreTraining model).\n",
            "- This IS NOT expected if you are initializing RobertaForSequenceClassification from the checkpoint of a model that you expect to be exactly identical (initializing a BertForSequenceClassification model from a BertForSequenceClassification model).\n",
            "Some weights of RobertaForSequenceClassification were not initialized from the model checkpoint at ../models/roberta-large and are newly initialized: ['classifier.dense.weight', 'classifier.dense.bias', 'classifier.out_proj.weight', 'classifier.out_proj.bias']\n",
            "You should probably TRAIN this model on a down-stream task to be able to use it for predictions and inference.\n"
          ],
          "name": "stderr"
        }
      ]
    },
    {
      "cell_type": "code",
      "metadata": {
        "id": "9PoHPwWfDk3v"
      },
      "source": [
        "import torch\n",
        "from sklearn.model_selection import train_test_split"
      ],
      "execution_count": null,
      "outputs": []
    },
    {
      "cell_type": "code",
      "metadata": {
        "id": "xEbwZA2NDk3v"
      },
      "source": [
        "class CreateDataset(torch.utils.data.Dataset):\n",
        "    def __init__(self, reviews, labels, tokenizer, max_len):\n",
        "        self.reviews = reviews\n",
        "        self.labels = labels\n",
        "        self.tokenizer = tokenizer\n",
        "        self.max_len = max_len\n",
        "        \n",
        "    def __len__(self):\n",
        "        return len(self.reviews)\n",
        "    \n",
        "    def __getitem__(self, item):\n",
        "        review = str(self.reviews[item])\n",
        "        label = self.labels[item]\n",
        "        \n",
        "        encoding = self.tokenizer.encode_plus(review, \n",
        "                                             add_special_tokens = True,\n",
        "                                             max_length = self.max_len, \n",
        "                                             truncation = True,\n",
        "                                             return_tensors = 'pt',\n",
        "                                             return_token_type_ids = False,\n",
        "                                             return_attention_mask = True,\n",
        "                                             padding = 'max_length')\n",
        "        \n",
        "        return{\n",
        "            'review_text': review,\n",
        "            'input_ids' : encoding['input_ids'].flatten(),\n",
        "            'attention_mask' : encoding['attention_mask'].flatten(),\n",
        "            'labels' : torch.tensor(label, dtype=torch.long)            \n",
        "        }"
      ],
      "execution_count": null,
      "outputs": []
    },
    {
      "cell_type": "code",
      "metadata": {
        "id": "aNWpINxSDk3w",
        "outputId": "c7e84000-eacf-4f0a-8ce2-09e5f47814d7"
      },
      "source": [
        "df_train, df_val = train_test_split(imdb_df, test_size = 0.3, random_state = 2021)\n",
        "print(df_train.shape, df_val.shape)"
      ],
      "execution_count": null,
      "outputs": [
        {
          "output_type": "stream",
          "text": [
            "(7000, 2) (3000, 2)\n"
          ],
          "name": "stdout"
        }
      ]
    },
    {
      "cell_type": "code",
      "metadata": {
        "id": "3cdLg4BrDk3w",
        "outputId": "b16fbd07-bac9-47af-8e2f-ff4123cba531"
      },
      "source": [
        "print(df_train.label.value_counts())\n",
        "print(df_val.label.value_counts())"
      ],
      "execution_count": null,
      "outputs": [
        {
          "output_type": "stream",
          "text": [
            "1    3571\n",
            "0    3429\n",
            "Name: label, dtype: int64\n",
            "0    1543\n",
            "1    1457\n",
            "Name: label, dtype: int64\n"
          ],
          "name": "stdout"
        }
      ]
    },
    {
      "cell_type": "code",
      "metadata": {
        "id": "4x834Ap9Dk3w"
      },
      "source": [
        "def create_data_loader(df, tokenizer, max_len, batch_size):\n",
        "    ds = CreateDataset(reviews = df.review.to_numpy(),\n",
        "                       labels = df.label.to_numpy(),\n",
        "                       tokenizer = tokenizer,\n",
        "                       max_len = max_len\n",
        "                      )\n",
        "    \n",
        "    return torch.utils.data.DataLoader(ds, \n",
        "                                       batch_size = batch_size, \n",
        "                                       num_workers = 4)"
      ],
      "execution_count": null,
      "outputs": []
    },
    {
      "cell_type": "code",
      "metadata": {
        "id": "cBXlBo7EDk3x"
      },
      "source": [
        "MAX_LEN = 512\n",
        "BATCH_SIZE = 8\n",
        "\n",
        "train_data_loader = create_data_loader(df_train, roberta_tok, MAX_LEN, BATCH_SIZE)\n",
        "val_data_loader = create_data_loader(df_val, roberta_tok, MAX_LEN, BATCH_SIZE)"
      ],
      "execution_count": null,
      "outputs": []
    },
    {
      "cell_type": "code",
      "metadata": {
        "id": "vcnfmOfrDk3x",
        "outputId": "f584d4df-6f33-43ed-fcdb-8180aacb9123"
      },
      "source": [
        "check_data = next(iter(train_data_loader))\n",
        "check_data.keys()"
      ],
      "execution_count": null,
      "outputs": [
        {
          "output_type": "execute_result",
          "data": {
            "text/plain": [
              "dict_keys(['review_text', 'input_ids', 'attention_mask', 'labels'])"
            ]
          },
          "metadata": {
            "tags": []
          },
          "execution_count": 18
        }
      ]
    },
    {
      "cell_type": "code",
      "metadata": {
        "id": "tD61pHxMI6aH"
      },
      "source": [
        "# Uncomment and run this cell to visualize the roberta-large architecture\r\n",
        "#roberta_model"
      ],
      "execution_count": null,
      "outputs": []
    },
    {
      "cell_type": "code",
      "metadata": {
        "id": "sw_lvnm0JHjl"
      },
      "source": [
        "# Embedding layer\r\n",
        "#roberta_model.roberta.embeddings"
      ],
      "execution_count": null,
      "outputs": []
    },
    {
      "cell_type": "code",
      "metadata": {
        "id": "m_ja29HCJQpN"
      },
      "source": [
        "# Encoder Layers\r\n",
        "#roberta_model.roberta.encoder"
      ],
      "execution_count": null,
      "outputs": []
    },
    {
      "cell_type": "code",
      "metadata": {
        "id": "1KZ9VDPKJTbf"
      },
      "source": [
        "# Classifier Layer\r\n",
        "#roberta_model.classifier"
      ],
      "execution_count": null,
      "outputs": []
    },
    {
      "cell_type": "code",
      "metadata": {
        "id": "ry56m71JDk3z"
      },
      "source": [
        "class MultiGPUClassifier(torch.nn.Module):\n",
        "    def __init__(self, roberta_model):\n",
        "        super(MultiGPUClassifier, self).__init__()\n",
        "        self.embedding = roberta_model.roberta.embeddings.to('cuda:0')\n",
        "        self.encoder = roberta_model.roberta.encoder.to('cuda:1')\n",
        "        self.classifier = roberta_model.classifier.to('cuda:1')\n",
        "        \n",
        "    def forward(self, input_ids, token_type_ids = None, attention_mask = None, labels = None):\n",
        "        emb_out = self.embedding(input_ids.to('cuda:0'))\n",
        "        enc_out = self.encoder(emb_out.to('cuda:1'))\n",
        "        classifier_out = self.classifier(enc_out[0])\n",
        "        return classifier_out        "
      ],
      "execution_count": null,
      "outputs": []
    },
    {
      "cell_type": "code",
      "metadata": {
        "scrolled": true,
        "id": "dC9jIulcDk3z",
        "outputId": "a19ba9a8-6e74-41ec-d266-47bf9cfda05b"
      },
      "source": [
        "!nvidia-smi"
      ],
      "execution_count": null,
      "outputs": [
        {
          "output_type": "stream",
          "text": [
            "Tue Jan 26 14:39:25 2021       \n",
            "+-----------------------------------------------------------------------------+\n",
            "| NVIDIA-SMI 450.51.06    Driver Version: 450.51.06    CUDA Version: 11.0     |\n",
            "|-------------------------------+----------------------+----------------------+\n",
            "| GPU  Name        Persistence-M| Bus-Id        Disp.A | Volatile Uncorr. ECC |\n",
            "| Fan  Temp  Perf  Pwr:Usage/Cap|         Memory-Usage | GPU-Util  Compute M. |\n",
            "|                               |                      |               MIG M. |\n",
            "|===============================+======================+======================|\n",
            "|   0  Tesla V100-SXM2...  On   | 00000000:62:00.0 Off |                    0 |\n",
            "| N/A   47C    P0    43W / 300W |      3MiB / 32510MiB |      0%      Default |\n",
            "|                               |                      |                  N/A |\n",
            "+-------------------------------+----------------------+----------------------+\n",
            "|   1  Tesla V100-SXM2...  On   | 00000000:8A:00.0 Off |                    0 |\n",
            "| N/A   65C    P0    49W / 300W |      3MiB / 32510MiB |      0%      Default |\n",
            "|                               |                      |                  N/A |\n",
            "+-------------------------------+----------------------+----------------------+\n",
            "                                                                               \n",
            "+-----------------------------------------------------------------------------+\n",
            "| Processes:                                                                  |\n",
            "|  GPU   GI   CI        PID   Type   Process name                  GPU Memory |\n",
            "|        ID   ID                                                   Usage      |\n",
            "|=============================================================================|\n",
            "|  No running processes found                                                 |\n",
            "+-----------------------------------------------------------------------------+\n"
          ],
          "name": "stdout"
        }
      ]
    },
    {
      "cell_type": "code",
      "metadata": {
        "id": "ifn8EwCHDk3z"
      },
      "source": [
        "multi_gpu_roberta = MultiGPUClassifier(roberta_model)"
      ],
      "execution_count": null,
      "outputs": []
    },
    {
      "cell_type": "code",
      "metadata": {
        "id": "Vk28vhN3Dk30"
      },
      "source": [
        "from transformers import get_linear_schedule_with_warmup, AdamW"
      ],
      "execution_count": null,
      "outputs": []
    },
    {
      "cell_type": "code",
      "metadata": {
        "id": "QSVmjKMaDk30"
      },
      "source": [
        "EPOCHS = 2\n",
        "LR = 1e-5\n",
        "\n",
        "optimizer = AdamW(multi_gpu_roberta.parameters(), lr = LR)\n",
        "total_steps = len(train_data_loader) * EPOCHS\n",
        "\n",
        "scheduler = get_linear_schedule_with_warmup(optimizer, \n",
        "                                           num_warmup_steps = 0, \n",
        "                                           num_training_steps = total_steps)"
      ],
      "execution_count": null,
      "outputs": []
    },
    {
      "cell_type": "code",
      "metadata": {
        "id": "SMdvL3hyDk30"
      },
      "source": [
        "loss_fn = torch.nn.CrossEntropyLoss().to('cuda:1')"
      ],
      "execution_count": null,
      "outputs": []
    },
    {
      "cell_type": "code",
      "metadata": {
        "id": "V8KjHMnvDk30"
      },
      "source": [
        "def train_model(model, data_loader, loss_fn, optimizer, scheduler, n_examples):\n",
        "    model = model.train()\n",
        "    losses = []\n",
        "    correct_predictions = 0\n",
        "    \n",
        "    for d in data_loader:\n",
        "        input_ids = d['input_ids']\n",
        "        attention_mask = d['attention_mask']\n",
        "        reshaped_attention_mask = attention_mask.reshape(d['attention_mask'].shape[0], 1, 1, d['attention_mask'].shape[1])\n",
        "        targets = d['labels']\n",
        "        \n",
        "        outputs= model(input_ids = input_ids, attention_mask = reshaped_attention_mask)\n",
        "        _, preds = torch.max(outputs, dim = 1)\n",
        "        loss = loss_fn(outputs, targets.to('cuda:1'))\n",
        "        \n",
        "        correct_predictions += torch.sum(preds == targets.to('cuda:1'))\n",
        "        losses.append(loss.item())\n",
        "        \n",
        "        loss.backward()\n",
        "        torch.nn.utils.clip_grad_norm_(model.parameters(), max_norm = 1.0)\n",
        "        optimizer.step()\n",
        "        scheduler.step()\n",
        "        optimizer.zero_grad()\n",
        "        \n",
        "    return correct_predictions.double() / n_examples, np.mean(losses)\n",
        "        "
      ],
      "execution_count": null,
      "outputs": []
    },
    {
      "cell_type": "code",
      "metadata": {
        "id": "d_7-RD9kDk31"
      },
      "source": [
        "def eval_model(model, data_loader, loss_fn, n_examples):\n",
        "    model = model.eval()\n",
        "    losses = []\n",
        "    correct_predictions = 0\n",
        "    \n",
        "    with torch.no_grad():\n",
        "        for d in data_loader:\n",
        "            input_ids = d['input_ids']\n",
        "            attention_mask = d['attention_mask']\n",
        "            reshaped_attention_mask = attention_mask.reshape(d['attention_mask'].shape[0], 1, 1, d['attention_mask'].shape[1])\n",
        "            targets = d['labels']\n",
        "            \n",
        "            outputs = model(input_ids = input_ids, attention_mask = reshaped_attention_mask)\n",
        "            _, preds = torch.max(outputs, dim = 1)\n",
        "            \n",
        "            loss = loss_fn(outputs, targets.to('cuda:1'))\n",
        "            \n",
        "            correct_predictions += torch.sum(preds == targets.to('cuda:1'))\n",
        "            losses.append(loss.item())\n",
        "            \n",
        "        return correct_predictions.double() / n_examples, np.mean(losses)"
      ],
      "execution_count": null,
      "outputs": []
    },
    {
      "cell_type": "code",
      "metadata": {
        "id": "z-CtwEdWDk31"
      },
      "source": [
        "from collections import defaultdict\n",
        "\n",
        "history = defaultdict(list)\n",
        "best_accuracy = 0"
      ],
      "execution_count": null,
      "outputs": []
    },
    {
      "cell_type": "code",
      "metadata": {
        "id": "rvbSjWfODk32",
        "outputId": "b1267adb-a66b-4106-ec9e-bec1b6ed50f5"
      },
      "source": [
        "%%time\n",
        "\n",
        "for epoch in range(EPOCHS):\n",
        "    print(f'Epoch {epoch + 1}/{EPOCHS}')\n",
        "    print('-' * 10)\n",
        "    \n",
        "    train_acc, train_loss = train_model(multi_gpu_roberta, train_data_loader, loss_fn, optimizer, scheduler, len(df_train))\n",
        "    print(f'Train Loss: {train_loss} ; Train Accuracy: {train_acc}')\n",
        "    \n",
        "    val_acc, val_loss = eval_model(multi_gpu_roberta, val_data_loader, loss_fn, len(df_val))\n",
        "    print(f'Val Loss: {val_loss} ; Val Accuracy: {val_acc}')\n",
        "    \n",
        "    print()\n",
        "    \n",
        "    history['train_acc'].append(train_acc)\n",
        "    history['train_loss'].append(train_loss)\n",
        "    history['val_acc'].append(val_acc)\n",
        "    history['val_loss'].append(val_loss)\n",
        "    \n",
        "    if val_acc > best_accuracy:\n",
        "        torch.save(multi_gpu_roberta.state_dict(), 'multi_gpu_roberta_best_model_state.bin')\n",
        "        best_acc = val_acc"
      ],
      "execution_count": null,
      "outputs": [
        {
          "output_type": "stream",
          "text": [
            "Epoch 1/2\n",
            "----------\n",
            "Train Loss: 0.3271573152278683 ; Train Accuracy: 0.8830000000000001\n",
            "Val Loss: 0.19180121847156745 ; Val Accuracy: 0.9593333333333333\n",
            "\n",
            "Epoch 2/2\n",
            "----------\n",
            "Train Loss: 0.14536982661844897 ; Train Accuracy: 0.9690000000000001\n",
            "Val Loss: 0.2031460166494362 ; Val Accuracy: 0.9633333333333333\n",
            "\n",
            "CPU times: user 21min 51s, sys: 8min 6s, total: 29min 57s\n",
            "Wall time: 30min 8s\n"
          ],
          "name": "stdout"
        }
      ]
    },
    {
      "cell_type": "code",
      "metadata": {
        "id": "rYh0fHRfDk32"
      },
      "source": [
        "import matplotlib.pyplot as plt"
      ],
      "execution_count": null,
      "outputs": []
    },
    {
      "cell_type": "code",
      "metadata": {
        "id": "S4EwZBZ_Dk32",
        "outputId": "e7c7aa81-6af7-4962-fb63-51b85a4ea865"
      },
      "source": [
        "plt.plot(history['train_acc'], label='train accuracy')\n",
        "plt.plot(history['val_acc'], label='validation accuracy')\n",
        "plt.title('Training history')\n",
        "plt.ylabel('Accuracy')\n",
        "plt.xlabel('Epoch')\n",
        "plt.legend()\n",
        "plt.ylim([0, 1]);"
      ],
      "execution_count": null,
      "outputs": [
        {
          "output_type": "display_data",
          "data": {
            "image/png": "[encoded data removed]",
            "text/plain": [
              "<Figure size 432x288 with 1 Axes>"
            ]
          },
          "metadata": {
            "tags": [],
            "needs_background": "light"
          }
        }
      ]
    },
    {
      "cell_type": "code",
      "metadata": {
        "id": "f4ENrTy-Dk33"
      },
      "source": [
        "def get_predictions(model, data_loader):\n",
        "    model = model.eval()\n",
        "    review_texts = []\n",
        "    predictions = []\n",
        "    prediction_probs = []\n",
        "    real_values = []\n",
        "    with torch.no_grad():\n",
        "        \n",
        "        for d in data_loader:\n",
        "\n",
        "            texts = d[\"review_text\"]\n",
        "            input_ids = d[\"input_ids\"]\n",
        "            attention_mask = d[\"attention_mask\"]\n",
        "            labels = d[\"labels\"]\n",
        "\n",
        "            outputs = model(input_ids=input_ids,\n",
        "                            attention_mask=attention_mask)\n",
        "\n",
        "            _, preds = torch.max(outputs, dim=1)\n",
        "            review_texts.extend(texts)\n",
        "            predictions.extend(preds)\n",
        "            prediction_probs.extend(outputs)\n",
        "            real_values.extend(labels)\n",
        "        predictions = torch.stack(predictions).cpu()\n",
        "        prediction_probs = torch.stack(prediction_probs).cpu()\n",
        "        real_values = torch.stack(real_values).cpu()\n",
        "    return review_texts, predictions, prediction_probs, real_values"
      ],
      "execution_count": null,
      "outputs": []
    },
    {
      "cell_type": "code",
      "metadata": {
        "id": "7M3B72GJDk34"
      },
      "source": [
        "y_review_texts, y_pred, y_pred_probs, y_test = get_predictions(multi_gpu_roberta, val_data_loader)"
      ],
      "execution_count": null,
      "outputs": []
    },
    {
      "cell_type": "code",
      "metadata": {
        "id": "aMRZV3TTDk34"
      },
      "source": [
        "from sklearn.metrics import classification_report, confusion_matrix\n",
        "import seaborn as sns"
      ],
      "execution_count": null,
      "outputs": []
    },
    {
      "cell_type": "code",
      "metadata": {
        "id": "MPHw5J1-Dk34",
        "outputId": "852f2836-6a97-4d8b-e400-ecf18218f86d"
      },
      "source": [
        "class_names = ['negative', 'positive']\n",
        "print(classification_report(y_test, y_pred, target_names=class_names))"
      ],
      "execution_count": null,
      "outputs": [
        {
          "output_type": "stream",
          "text": [
            "              precision    recall  f1-score   support\n",
            "\n",
            "    negative       0.96      0.96      0.96      1543\n",
            "    positive       0.96      0.96      0.96      1457\n",
            "\n",
            "    accuracy                           0.96      3000\n",
            "   macro avg       0.96      0.96      0.96      3000\n",
            "weighted avg       0.96      0.96      0.96      3000\n",
            "\n"
          ],
          "name": "stdout"
        }
      ]
    },
    {
      "cell_type": "code",
      "metadata": {
        "id": "NKEnCqhJDk34",
        "outputId": "d1d26076-90eb-413b-fa25-4271851b434f"
      },
      "source": [
        "def show_confusion_matrix(confusion_matrix):\n",
        "    \n",
        "    hmap = sns.heatmap(confusion_matrix, annot=True, fmt=\"d\", cmap=\"Blues\")\n",
        "    hmap.yaxis.set_ticklabels(hmap.yaxis.get_ticklabels(), rotation=0, ha='right')\n",
        "    hmap.xaxis.set_ticklabels(hmap.xaxis.get_ticklabels(), rotation=30, ha='right')\n",
        "    plt.ylabel('True sentiment')\n",
        "    plt.xlabel('Predicted sentiment');\n",
        "    \n",
        "cm = confusion_matrix(y_test, y_pred)\n",
        "df_cm = pd.DataFrame(cm, index=class_names, columns=class_names)\n",
        "show_confusion_matrix(df_cm)"
      ],
      "execution_count": null,
      "outputs": [
        {
          "output_type": "display_data",
          "data": {
            "image/png": "[encoded data removed]",
            "text/plain": [
              "<Figure size 432x288 with 2 Axes>"
            ]
          },
          "metadata": {
            "tags": [],
            "needs_background": "light"
          }
        }
      ]
    },
    {
      "cell_type": "code",
      "metadata": {
        "id": "0XUSlffVDk35",
        "outputId": "c2cd99fe-4764-466c-a5d4-a4cae4142725"
      },
      "source": [
        "idx = 1\n",
        "review_text = y_review_texts[idx]\n",
        "true_sentiment = y_test[idx]\n",
        "\n",
        "pred_df = pd.DataFrame({'class_names': class_names, \n",
        "                        'values': y_pred_probs[idx] \n",
        "                       })\n",
        "\n",
        "print(review_text)\n",
        "print()\n",
        "print(f'True sentiment: {class_names[true_sentiment]}')"
      ],
      "execution_count": null,
      "outputs": [
        {
          "output_type": "stream",
          "text": [
            "This movie starts by showing you a map and then explaining radar and it is quite awhile before you ever see the deadly mantis. Probably a better movie in the 50's this dated piece is a bit to slow moving and the pay off in the end isn't very good. Though it has its moments like when the guy from Perry Mason argues with an old man and when he says \"I have narrowed the possibilities to one\" excuse me, but when you narrow something down you have a couple or more possibilities not one...if you get it down to one you haven't narrowed it down, but you have in fact figured out what it is. The monster is standard 50's sci-fi fair, better than say the grasshoppers in the Beginning of the End. Acting is sub-par and the heroine is the most unattractive...in fact in some shots she does look like a guy in drag. You see plenty of fighter plane stock footage and other things, but you won't see much at all of the deadly mantis.\n",
            "\n",
            "True sentiment: negative\n"
          ],
          "name": "stdout"
        }
      ]
    },
    {
      "cell_type": "code",
      "metadata": {
        "id": "TL8yN3CaDk35",
        "outputId": "0fb6990d-0f1a-44bd-88f9-c6b63bfa07e8"
      },
      "source": [
        "sns.barplot(x='values', y='class_names', data=pred_df, orient='h')\n",
        "plt.ylabel('sentiment')\n",
        "plt.xlabel('probability')\n",
        "plt.xlim([0, 1]);"
      ],
      "execution_count": null,
      "outputs": [
        {
          "output_type": "display_data",
          "data": {
            "image/png": "[encoded data removed]",
            "text/plain": [
              "<Figure size 432x288 with 1 Axes>"
            ]
          },
          "metadata": {
            "tags": [],
            "needs_background": "light"
          }
        }
      ]
    }
  ]
}